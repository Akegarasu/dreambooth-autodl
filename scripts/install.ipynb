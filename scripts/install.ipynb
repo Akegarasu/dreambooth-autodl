{
 "cells": [
  {
   "cell_type": "code",
   "execution_count": null,
   "id": "71eaac90-3419-4980-82c1-c999d742ccb6",
   "metadata": {},
   "outputs": [],
   "source": [
    "# 安装环境\n",
    "## 安装环境\n",
    "!git clone https://github.com/ShivamShrirao/diffusers\n",
    "%pip config list\n",
    "%pip config set global.index-url https://pypi.tuna.tsinghua.edu.cn/simple/\n",
    "%pip config set global.trusted-host https://pypi.tuna.tsinghua.edu.cn/simple/\n",
    "# !pip install -U pip\n",
    "%pip install -q ./diffusers\n",
    "%pip install -q -U --pre triton\n",
    "%pip install -q accelerate==0.12.0 transformers==4.24.0 ftfy==6.1.1 bitsandbytes==0.35.4 omegaconf==2.2.3 einops==0.5.0 pytorch-lightning==1.7.7 gradio\n",
    "%pip install -q torchvision"
   ]
  }
 ],
 "metadata": {
  "kernelspec": {
   "display_name": "diffusers",
   "language": "python",
   "name": "diffusers"
  },
  "language_info": {
   "codemirror_mode": {
    "name": "ipython",
    "version": 3
   },
   "file_extension": ".py",
   "mimetype": "text/x-python",
   "name": "python",
   "nbconvert_exporter": "python",
   "pygments_lexer": "ipython3",
   "version": "3.10.6"
  }
 },
 "nbformat": 4,
 "nbformat_minor": 5
}
